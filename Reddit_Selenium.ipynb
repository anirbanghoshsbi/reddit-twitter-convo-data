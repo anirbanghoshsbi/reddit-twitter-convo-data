{
  "nbformat": 4,
  "nbformat_minor": 0,
  "metadata": {
    "colab": {
      "name": "Reddit-Selenium.ipynb",
      "provenance": [],
      "collapsed_sections": [],
      "toc_visible": true,
      "include_colab_link": true
    },
    "kernelspec": {
      "name": "python3",
      "display_name": "Python 3"
    },
    "accelerator": "GPU"
  },
  "cells": [
    {
      "cell_type": "markdown",
      "metadata": {
        "id": "view-in-github",
        "colab_type": "text"
      },
      "source": [
        "<a href=\"https://colab.research.google.com/github/learningdollars/reddit-twitter-convo-data/blob/master/Reddit_Selenium.ipynb\" target=\"_parent\"><img src=\"https://colab.research.google.com/assets/colab-badge.svg\" alt=\"Open In Colab\"/></a>"
      ]
    },
    {
      "cell_type": "markdown",
      "metadata": {
        "id": "GA09woY5yzlP",
        "colab_type": "text"
      },
      "source": [
        "# Complete Reddit Selenium Scraping\n",
        "\n"
      ]
    },
    {
      "cell_type": "markdown",
      "metadata": {
        "id": "HxYNPrL4zJG5",
        "colab_type": "text"
      },
      "source": [
        "## Preparation"
      ]
    },
    {
      "cell_type": "code",
      "metadata": {
        "id": "1al-CYugY-rz",
        "colab_type": "code",
        "colab": {}
      },
      "source": [
        "%%bash\n",
        "\n",
        "chmod 777 /tmp\n",
        "apt-get update --allow-unauthenticated \n",
        "apt-get update -y --fix-missing \n",
        "pip install selenium\n",
        "apt-get install chromium-chromedriver -y --fix-missing"
      ],
      "execution_count": 0,
      "outputs": []
    },
    {
      "cell_type": "code",
      "metadata": {
        "id": "ao22IqoczbL7",
        "colab_type": "code",
        "colab": {}
      },
      "source": [
        "# Install chromium, driver, and selenium\n",
        "!pip install selenium\n",
        "!apt install chromium-chromedriver\n",
        "!cp /usr/lib/chromium-browser/chromedriver /usr/bin\n",
        "\n",
        "# Adding to path, unnecessary if files are moved to /usr/bin\n",
        "# import sys\n",
        "# sys.path.insert(0,'/usr/lib/chromium-browser/chromedriver')"
      ],
      "execution_count": 0,
      "outputs": []
    },
    {
      "cell_type": "markdown",
      "metadata": {
        "id": "1JTzBZXaapdA",
        "colab_type": "text"
      },
      "source": [
        "## Run"
      ]
    },
    {
      "cell_type": "code",
      "metadata": {
        "id": "x3bP4p8CHCqR",
        "colab_type": "code",
        "colab": {}
      },
      "source": [
        "# Set to headless\n",
        "from selenium import webdriver\n",
        "options = webdriver.ChromeOptions()\n",
        "options.add_argument(\"-no-sandbox\")\n",
        "options.add_argument(\"-headless\")\n",
        "options.add_argument(\"-disable-dev-shm-usage\")\n",
        "\n",
        "# Open it & a website, and get result\n",
        "d = webdriver.Chrome(\"chromedriver\", options=options)\n",
        "d.get(\"https://www.reddit.com\")\n",
        "print(d.page_source) # results"
      ],
      "execution_count": 0,
      "outputs": []
    },
    {
      "cell_type": "code",
      "metadata": {
        "id": "FvA64UGSHFvF",
        "colab_type": "code",
        "colab": {}
      },
      "source": [
        ""
      ],
      "execution_count": 0,
      "outputs": []
    }
  ]
}